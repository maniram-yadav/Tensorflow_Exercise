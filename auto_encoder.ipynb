{
 "cells": [
  {
   "cell_type": "code",
   "execution_count": 1,
   "metadata": {
    "collapsed": true
   },
   "outputs": [],
   "source": [
    "import tensorflow as tf\n",
    "import numpy as np\n",
    "from tensorflow.examples.tutorials.mnist import input_data"
   ]
  },
  {
   "cell_type": "code",
   "execution_count": 2,
   "metadata": {},
   "outputs": [
    {
     "name": "stdout",
     "output_type": "stream",
     "text": [
      "Extracting MNIST_data/train-images-idx3-ubyte.gz\n",
      "Extracting MNIST_data/train-labels-idx1-ubyte.gz\n",
      "Extracting MNIST_data/t10k-images-idx3-ubyte.gz\n",
      "Extracting MNIST_data/t10k-labels-idx1-ubyte.gz\n"
     ]
    }
   ],
   "source": [
    "mnist = input_data.read_data_sets('MNIST_data/',one_hot=True)\n",
    "\n",
    "\n",
    "learning_rate = .01\n",
    "iteration = 50\n",
    "batch_size = 1000\n",
    "num_batches = mnist.train.num_examples // batch_size\n",
    "display_steps = 10\n"
   ]
  },
  {
   "cell_type": "code",
   "execution_count": 3,
   "metadata": {
    "collapsed": true
   },
   "outputs": [],
   "source": [
    "input_size = 784\n",
    "hidden1_size = 254\n",
    "hidden2_size = 128"
   ]
  },
  {
   "cell_type": "code",
   "execution_count": 4,
   "metadata": {
    "collapsed": true
   },
   "outputs": [],
   "source": [
    "weight_variables = {\n",
    "    'encoder_h1':tf.Variable(tf.random_normal([input_size,hidden1_size])),\n",
    "    'encoder_h2':tf.Variable(tf.random_normal([hidden1_size,hidden2_size])),\n",
    "    'decoder_h1':tf.Variable(tf.random_normal([hidden2_size,hidden1_size])),\n",
    "    'decoder_h2':tf.Variable(tf.random_normal([hidden1_size,input_size]))\n",
    "}\n",
    "\n",
    "biases = {\n",
    "    'encoder_h1':tf.Variable(tf.random_normal([hidden1_size])),\n",
    "    'encoder_h2':tf.Variable(tf.random_normal([hidden2_size])),\n",
    "    'decoder_h1':tf.Variable(tf.random_normal([hidden1_size])),\n",
    "    'decoder_h2':tf.Variable(tf.random_normal([input_size]))\n",
    "}"
   ]
  },
  {
   "cell_type": "code",
   "execution_count": 5,
   "metadata": {
    "collapsed": true
   },
   "outputs": [],
   "source": [
    "def encoder(input,weights,bias):\n",
    "    layer1 = tf.nn.sigmoid(tf.add(\n",
    "                            tf.matmul(input,weights['encoder_h1']),\n",
    "                            bias['encoder_h1']))\n",
    "    layer2 = tf.nn.sigmoid(tf.add(\n",
    "                            tf.matmul(layer1,weights['encoder_h2']),\n",
    "                            bias['encoder_h2']))\n",
    "    return layer2\n",
    "\n",
    "\n",
    "def decoder(input,weights,bias):\n",
    "    layer1 = tf.nn.sigmoid(tf.add(\n",
    "                            tf.matmul(input,weights['decoder_h1']),\n",
    "                            bias['decoder_h1']))\n",
    "    layer2 = tf.nn.sigmoid(tf.add(\n",
    "                            tf.matmul(layer1,weights['decoder_h2']),\n",
    "                            bias['decoder_h2']))\n",
    "    return layer2\n",
    "\n"
   ]
  },
  {
   "cell_type": "code",
   "execution_count": 6,
   "metadata": {
    "collapsed": true
   },
   "outputs": [],
   "source": [
    "X = tf.placeholder(tf.float32,[None,784])\n",
    "\n",
    "encoded = encoder(X,weight_variables,biases)\n",
    "decoded = decoder(encoded,weight_variables,biases)\n",
    "\n",
    "y_pred = decoded\n",
    "y_true = X\n",
    "\n",
    "cost = tf.reduce_mean(tf.square(y_pred-y_true))\n",
    "optimizer = tf.train.RMSPropOptimizer(learning_rate).minimize(cost)\n",
    "\n",
    "init = tf.global_variables_initializer()\n",
    "\n",
    "\n"
   ]
  },
  {
   "cell_type": "code",
   "execution_count": 7,
   "metadata": {},
   "outputs": [
    {
     "name": "stdout",
     "output_type": "stream",
     "text": [
      "Step 0 have loss 0.4298338294029236\n",
      "Step 1 have loss 0.4109456241130829\n",
      "Step 2 have loss 0.21990448236465454\n",
      "Step 3 have loss 0.17330676317214966\n",
      "Step 4 have loss 0.1673019975423813\n",
      "Step 5 have loss 0.15715466439723969\n",
      "Step 6 have loss 0.1513802856206894\n",
      "Step 7 have loss 0.14700938761234283\n",
      "Step 8 have loss 0.13998748362064362\n",
      "Step 9 have loss 0.13530616462230682\n"
     ]
    }
   ],
   "source": [
    "sess = tf.Session()\n",
    "sess.run(init)\n",
    "# with tf.Session() as sess:\n",
    "#     sess.run(init)\n",
    "    \n",
    "for i in range(10):\n",
    "        \n",
    "        for b in range(num_batches):\n",
    "                batch_x,_ = mnist.train.next_batch(batch_size)\n",
    "                _,loss = sess.run([optimizer,cost],feed_dict={X:batch_x})\n",
    "        \n",
    "#         if i % display_steps or i == 1 :\n",
    "        print(\"Step {} have loss {}\".format(i,loss))\n",
    "                \n",
    "                "
   ]
  },
  {
   "cell_type": "code",
   "execution_count": null,
   "metadata": {
    "collapsed": true
   },
   "outputs": [],
   "source": [
    "n = 4\n",
    "\n",
    "predicted_region =  np.empty([n*28,n*28])\n",
    "original_region = np.empty([n*28,n*28])\n",
    "for i in range(n):\n",
    "    \n",
    "    batch_x , _ = mnist.train.next_batch(n)\n",
    "    \n",
    "    predict = sess.run(decoded,feed_dict={X:batch_x})\n",
    "    \n",
    "    for j in range(n):\n",
    "     \n",
    "        predicted_region[i*28:(i+1)*28,j*28:(j+1)*28] = predict[j].reshape([28,28])\n",
    "        \n",
    "        original_region[i*28:(i+1)*28,j*28:(j+1)*28] = batch_x[j].reshape([28,28])\n",
    "        \n",
    "import matplotlib.pyplot as plt\n",
    "\n",
    "print(\"Original image\")\n",
    "plt.imshow(original_region)\n",
    "plt.show()\n",
    "\n",
    "print(\"\\n\\n Predicted Region\")\n",
    "plt.imshow(predicted_region)\n",
    "plt.show()"
   ]
  }
 ],
 "metadata": {
  "kernelspec": {
   "display_name": "Python 3",
   "language": "python",
   "name": "python3"
  },
  "language_info": {
   "codemirror_mode": {
    "name": "ipython",
    "version": 3
   },
   "file_extension": ".py",
   "mimetype": "text/x-python",
   "name": "python",
   "nbconvert_exporter": "python",
   "pygments_lexer": "ipython3",
   "version": "3.6.3"
  }
 },
 "nbformat": 4,
 "nbformat_minor": 2
}
