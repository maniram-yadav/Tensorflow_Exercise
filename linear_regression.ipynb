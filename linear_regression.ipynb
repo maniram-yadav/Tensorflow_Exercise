{
 "cells": [
  {
   "cell_type": "code",
   "execution_count": 1,
   "metadata": {
    "collapsed": true
   },
   "outputs": [],
   "source": [
    "import numpy as np\n",
    "import tensorflow as tf\n",
    "import matplotlib.pyplot as plt\n"
   ]
  },
  {
   "cell_type": "code",
   "execution_count": 57,
   "metadata": {
    "collapsed": true
   },
   "outputs": [],
   "source": [
    "trX = np.linspace(-1,1,200)\n",
    "trY = 2*trX + np.random.rand(*trX.shape)*.53+np.random.rand(*trX.shape)*.83"
   ]
  },
  {
   "cell_type": "code",
   "execution_count": 58,
   "metadata": {},
   "outputs": [
    {
     "data": {
      "image/png": "[encoded data removed]",
      "text/plain": [
       "<matplotlib.figure.Figure at 0x7f5f1f5d42b0>"
      ]
     },
     "metadata": {},
     "output_type": "display_data"
    }
   ],
   "source": [
    "plt.scatter(trX,trY)\n",
    "plt.show()"
   ]
  },
  {
   "cell_type": "code",
   "execution_count": 59,
   "metadata": {
    "collapsed": true
   },
   "outputs": [],
   "source": [
    "X = tf.placeholder(dtype=tf.float32)\n",
    "Y = tf.placeholder(dtype=tf.float32)\n",
    "\n",
    "W = tf.Variable(0.0,name=\"weights\",dtype=tf.float32)\n",
    "b = tf.Variable(0.0,name=\"bias\",dtype=tf.float32)"
   ]
  },
  {
   "cell_type": "code",
   "execution_count": 60,
   "metadata": {
    "collapsed": true
   },
   "outputs": [],
   "source": [
    "def model(x,w):\n",
    "    return tf.multiply(x,w)"
   ]
  },
  {
   "cell_type": "code",
   "execution_count": 61,
   "metadata": {
    "collapsed": true
   },
   "outputs": [],
   "source": [
    "y_pred = model(X,W)+b\n",
    "cost = tf.square(Y-y_pred)"
   ]
  },
  {
   "cell_type": "code",
   "execution_count": 62,
   "metadata": {},
   "outputs": [],
   "source": [
    "train_op = tf.train.GradientDescentOptimizer(.01).minimize(cost)"
   ]
  },
  {
   "cell_type": "code",
   "execution_count": 63,
   "metadata": {},
   "outputs": [
    {
     "name": "stdout",
     "output_type": "stream",
     "text": [
      "Iteration -- 0\n",
      "W = 0.830074667930603\n",
      "Bias = 1.358540415763855\n",
      "-------------------------------------------------- \n",
      "\n",
      "\n",
      "\n",
      "\n",
      "Iteration -- 10\n",
      "W = 1.9426158666610718\n",
      "Bias = 0.6770915389060974\n",
      "-------------------------------------------------- \n",
      "\n",
      "\n",
      "\n",
      "\n",
      "Iteration -- 20\n",
      "W = 1.9426192045211792\n",
      "Bias = 0.6770894527435303\n",
      "-------------------------------------------------- \n",
      "\n",
      "\n",
      "\n",
      "\n",
      "Iteration -- 30\n",
      "W = 1.9426192045211792\n",
      "Bias = 0.6770894527435303\n",
      "-------------------------------------------------- \n",
      "\n",
      "\n",
      "\n",
      "\n",
      "Iteration -- 40\n",
      "W = 1.9426192045211792\n",
      "Bias = 0.6770894527435303\n",
      "-------------------------------------------------- \n",
      "\n",
      "\n",
      "\n",
      "\n"
     ]
    }
   ],
   "source": [
    "with tf.Session() as sess:\n",
    "    tf.global_variables_initializer().run()\n",
    "    for i in range(50):\n",
    "        for x,y in zip(trX,trY):\n",
    "            sess.run(train_op,feed_dict={X:x,Y:y})\n",
    "                \n",
    "        if(i%10==0):\n",
    "            print(\"Iteration -- \"+str(i))\n",
    "            print(\"W = {}\".format(sess.run(W)))\n",
    "            print(\"Bias = {}\".format(sess.run(b)))\n",
    "            print(\"-\"*50,\"\\n\"*4)"
   ]
  },
  {
   "cell_type": "code",
   "execution_count": 64,
   "metadata": {},
   "outputs": [],
   "source": [
    "yp = trX*1.9426192045211792+0.6770894527435303"
   ]
  },
  {
   "cell_type": "code",
   "execution_count": 65,
   "metadata": {
    "scrolled": true
   },
   "outputs": [
    {
     "data": {
      "image/png": "[encoded data removed]",
      "text/plain": [
       "<matplotlib.figure.Figure at 0x7f5f2327d518>"
      ]
     },
     "metadata": {},
     "output_type": "display_data"
    }
   ],
   "source": [
    "plt.scatter(trX,trY,c='g')\n",
    "plt.plot(trX,yp,c='r')\n",
    "plt.show()\n"
   ]
  },
  {
   "cell_type": "code",
   "execution_count": null,
   "metadata": {
    "collapsed": true
   },
   "outputs": [],
   "source": []
  }
 ],
 "metadata": {
  "kernelspec": {
   "display_name": "Python 3",
   "language": "python",
   "name": "python3"
  },
  "language_info": {
   "codemirror_mode": {
    "name": "ipython",
    "version": 3
   },
   "file_extension": ".py",
   "mimetype": "text/x-python",
   "name": "python",
   "nbconvert_exporter": "python",
   "pygments_lexer": "ipython3",
   "version": "3.6.3"
  }
 },
 "nbformat": 4,
 "nbformat_minor": 2
}
