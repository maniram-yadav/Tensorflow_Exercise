{
 "cells": [
  {
   "cell_type": "code",
   "execution_count": 1,
   "metadata": {
    "collapsed": true
   },
   "outputs": [],
   "source": [
    "import tensorflow as tf\n",
    "from tensorflow.examples.tutorials.mnist import input_data"
   ]
  },
  {
   "cell_type": "code",
   "execution_count": 2,
   "metadata": {},
   "outputs": [
    {
     "name": "stdout",
     "output_type": "stream",
     "text": [
      "Extracting MNIST_data/train-images-idx3-ubyte.gz\n",
      "Extracting MNIST_data/train-labels-idx1-ubyte.gz\n",
      "Extracting MNIST_data/t10k-images-idx3-ubyte.gz\n",
      "Extracting MNIST_data/t10k-labels-idx1-ubyte.gz\n"
     ]
    }
   ],
   "source": [
    "def init_weights(shape):\n",
    "    return tf.Variable(tf.random_normal(shape,stddev=.05))\n",
    "def model(x,w,w2,w3,w4,w_o,p_keep_conv,p_keep_hid):\n",
    "    l1a = tf.nn.relu(tf.nn.conv2d(x,w,strides=[1,1,1,1],padding='SAME'))\n",
    "    l1 = tf.nn.max_pool(l1a,strides=[1,2,2,1],ksize=[1,2,2,1],padding='SAME')\n",
    "    l1 = tf.nn.dropout(l1,p_keep_conv)\n",
    "    \n",
    "    l2a = tf.nn.relu(tf.nn.conv2d(l1,w2,strides=[1,1,1,1],padding='SAME'))\n",
    "    l2 = tf.nn.max_pool(l2a,strides=[1,2,2,1],ksize=[1,2,2,1],padding='SAME')\n",
    "    l2 = tf.nn.dropout(l2,p_keep_conv)\n",
    "    \n",
    "    l3a = tf.nn.relu(tf.nn.conv2d(l2,w3,strides=[1,1,1,1],padding='SAME'))\n",
    "    l3 = tf.nn.max_pool(l3a,strides=[1,2,2,1],ksize=[1,2,2,1],padding='SAME')\n",
    "    l3 = tf.reshape(l3,[-1,w4.get_shape().as_list()[0]])\n",
    "    l3 = tf.nn.dropout(l3,p_keep_conv)\n",
    "    \n",
    "    l4 = tf.nn.relu(tf.matmul(l3,w4))\n",
    "    l4 = tf.nn.dropout(l4,p_keep_hid)\n",
    "    \n",
    "    pyx = tf.matmul(l4,w_o)\n",
    "    return pyx\n",
    "\n",
    "mnist = input_data.read_data_sets(\"MNIST_data/\", one_hot=True)\n",
    "trX, trY, teX, teY = mnist.train.images, mnist.train.labels, mnist.test.images, mnist.test.labels\n",
    "\n",
    "trX = trX.reshape(-1,28,28,1)\n",
    "teX = teX.reshape(-1,28,28,1)\n",
    "    "
   ]
  },
  {
   "cell_type": "code",
   "execution_count": 3,
   "metadata": {
    "collapsed": true
   },
   "outputs": [],
   "source": [
    "X = tf.placeholder(\"float\",[None,28,28,1])\n",
    "Y = tf.placeholder(\"float\",[None,10])\n",
    "\n",
    "w = init_weights([3, 3, 1, 32])       # 3x3x1 conv, 32 outputs\n",
    "w2 = init_weights([3, 3, 32, 64])     # 3x3x32 conv, 64 outputs\n",
    "w3 = init_weights([3, 3, 64, 128])    # 3x3x32 conv, 128 outputs\n",
    "w4 = init_weights([128 * 4 * 4, 625]) # FC 128 * 4 * 4 inputs, 625 outputs\n",
    "w_o = init_weights([625, 10]) \n",
    "\n",
    "\n",
    "p_keep_conv = tf.placeholder(\"float\")\n",
    "p_keep_hidden = tf.placeholder(\"float\")\n",
    "py_x = model(X, w, w2, w3, w4, w_o, p_keep_conv, p_keep_hidden)\n"
   ]
  },
  {
   "cell_type": "code",
   "execution_count": 4,
   "metadata": {
    "collapsed": true
   },
   "outputs": [],
   "source": [
    "test_size = 256\n",
    "batch_size = 128"
   ]
  },
  {
   "cell_type": "code",
   "execution_count": 6,
   "metadata": {},
   "outputs": [],
   "source": [
    "cost = tf.reduce_mean(tf.nn.softmax_cross_entropy_with_logits(logits=py_x,labels=Y))\n",
    "train_opt = tf.train.RMSPropOptimizer(.001,.9).minimize(cost)\n",
    "predict_opt = tf.argmax(py_x,1)\n",
    "\n",
    "correct_prediction = tf.equal(tf.argmax(py_x, 1), tf.argmax(Y, 1))\n",
    "accuracy = tf.reduce_mean(tf.cast(correct_prediction, tf.float32))"
   ]
  },
  {
   "cell_type": "code",
   "execution_count": null,
   "metadata": {
    "collapsed": true
   },
   "outputs": [],
   "source": [
    "import numpy as np\n",
    "\n",
    "with tf.Session() as sess:\n",
    "    tf.global_variables_initializer().run()\n",
    "    for i in range(200):\n",
    "        for start,end in zip(range(0,len(trX),batch_size),range(128,len(trX)+1,batch_size)):\n",
    "            sess.run(train_opt,feed_dict={X:trX[start:end],Y:trY[start:end],p_keep_conv:.8,\n",
    "                                         p_keep_hidden:.5})\n",
    "        test_indices = np.arange(len(teX))\n",
    "        np.random.shuffle(test_indices)\n",
    "        test_indices = test_indices[0:test_size]\n",
    "        \n",
    "        print(i,np.mean(np.argmax(teY[test_indices],axis=1)==\n",
    "                       sess.run(predict_opt,feed_dict={X:teX[test_indices],\n",
    "                                                      Y:teY[test_indices],\n",
    "                                                      p_keep_conv:1.0,\n",
    "                                                      p_keep_hidden:1.0})))\n",
    "        if i%10==0:\n",
    "            print(i,sess.run(accuracy,feed_dict={X:teX[test_indices],\n",
    "                                                      Y:teY[test_indices],\n",
    "                                                      p_keep_conv:1.0,\n",
    "                                                      p_keep_hidden:1.0}))"
   ]
  },
  {
   "cell_type": "code",
   "execution_count": null,
   "metadata": {
    "collapsed": true
   },
   "outputs": [],
   "source": []
  }
 ],
 "metadata": {
  "kernelspec": {
   "display_name": "Python 3",
   "language": "python",
   "name": "python3"
  },
  "language_info": {
   "codemirror_mode": {
    "name": "ipython",
    "version": 3
   },
   "file_extension": ".py",
   "mimetype": "text/x-python",
   "name": "python",
   "nbconvert_exporter": "python",
   "pygments_lexer": "ipython3",
   "version": "3.6.3"
  }
 },
 "nbformat": 4,
 "nbformat_minor": 2
}
