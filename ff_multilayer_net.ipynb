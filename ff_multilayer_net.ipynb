{
 "cells": [
  {
   "cell_type": "code",
   "execution_count": 2,
   "metadata": {},
   "outputs": [],
   "source": [
    "import tensorflow as tf\n",
    "import numpy as np\n",
    "from tensorflow.examples.tutorials.mnist import input_data\n",
    "import numpy as np\n"
   ]
  },
  {
   "cell_type": "code",
   "execution_count": 15,
   "metadata": {},
   "outputs": [],
   "source": [
    "def init_weights(shape):\n",
    "    return tf.Variable(tf.random_normal(shape,stddev=.05))\n",
    "\n",
    "def model(x,w_h,w_h2,w_o,p_keep_input,p_keep_hidden):\n",
    "   \n",
    "    X = tf.nn.dropout(x,p_keep_input)\n",
    "    h =tf.nn.relu( tf.matmul(X,w_h))\n",
    "    \n",
    "    h = tf.nn.dropout(h,p_keep_hidden)\n",
    "    h2 = tf.nn.relu(tf.matmul(h,w_h2))\n",
    "    \n",
    "    h2 = tf.nn.dropout(h2,p_keep_hidden)\n",
    "    out = tf.matmul(h2,w_o)\n",
    "    \n",
    "    return out\n",
    "    "
   ]
  },
  {
   "cell_type": "code",
   "execution_count": 16,
   "metadata": {},
   "outputs": [
    {
     "name": "stdout",
     "output_type": "stream",
     "text": [
      "Extracting MNIST_data/train-images-idx3-ubyte.gz\n",
      "Extracting MNIST_data/train-labels-idx1-ubyte.gz\n",
      "Extracting MNIST_data/t10k-images-idx3-ubyte.gz\n",
      "Extracting MNIST_data/t10k-labels-idx1-ubyte.gz\n"
     ]
    }
   ],
   "source": [
    "mnist = input_data.read_data_sets('MNIST_data/',one_hot=True)\n",
    "trX,trY,teX,teY = mnist.train.images,mnist.train.labels,mnist.test.images,mnist.test.labels"
   ]
  },
  {
   "cell_type": "code",
   "execution_count": 17,
   "metadata": {},
   "outputs": [],
   "source": [
    "X = tf.placeholder(\"float\",[None,784])\n",
    "Y = tf.placeholder(\"float\",[None,10])\n",
    "\n",
    "w_h = init_weights([784,625])\n",
    "w_h2 = init_weights([625,625])\n",
    "w_o = init_weights([625,10])\n",
    "\n",
    "p_hidden = tf.placeholder(\"float\")\n",
    "p_input = tf.placeholder(\"float\")\n",
    "\n",
    "py_x = model(X,w_h,w_h2,w_o,p_input,p_hidden)\n",
    "\n",
    "cost = tf.reduce_mean(tf.nn.softmax_cross_entropy_with_logits(logits=py_x,labels=Y))\n",
    "train_opt = tf.train.RMSPropOptimizer(.001,.9).minimize(cost)\n",
    "\n",
    "predict_op = tf.argmax(py_x,1)"
   ]
  },
  {
   "cell_type": "code",
   "execution_count": 22,
   "metadata": {},
   "outputs": [
    {
     "name": "stdout",
     "output_type": "stream",
     "text": [
      "0 0.9429\n",
      "1 0.9642\n",
      "2 0.9715\n",
      "3 0.9734\n",
      "4 0.9753\n",
      "5 0.9749\n",
      "6 0.9752\n",
      "7 0.9767\n",
      "8 0.9799\n",
      "9 0.9786\n"
     ]
    }
   ],
   "source": [
    "with tf.Session() as sess:\n",
    "    tf.global_variables_initializer().run()\n",
    "    \n",
    "    for i in range(10):\n",
    "        for start,end in zip(range(0,len(trX),128),range(128,len(trX)+1,128)):\n",
    "            sess.run(train_opt,feed_dict={X:trX[start:end],Y:trY[start:end],p_input:.8,\n",
    "                                         p_hidden:.5})\n",
    "        print(i,np.mean(np.argmax(teY,axis=1)==\n",
    "                       sess.run(predict_op,feed_dict={X:teX,p_input:1.0,p_hidden:1.0})))"
   ]
  },
  {
   "cell_type": "code",
   "execution_count": null,
   "metadata": {
    "collapsed": true
   },
   "outputs": [],
   "source": []
  }
 ],
 "metadata": {
  "kernelspec": {
   "display_name": "Python 3",
   "language": "python",
   "name": "python3"
  },
  "language_info": {
   "codemirror_mode": {
    "name": "ipython",
    "version": 3
   },
   "file_extension": ".py",
   "mimetype": "text/x-python",
   "name": "python",
   "nbconvert_exporter": "python",
   "pygments_lexer": "ipython3",
   "version": "3.6.3"
  }
 },
 "nbformat": 4,
 "nbformat_minor": 2
}
