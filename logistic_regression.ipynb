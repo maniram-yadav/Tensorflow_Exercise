{
 "cells": [
  {
   "cell_type": "code",
   "execution_count": 1,
   "metadata": {
    "collapsed": true
   },
   "outputs": [],
   "source": [
    "import tensorflow as tf\n",
    "import numpy as np\n",
    "from tensorflow.examples.tutorials.mnist import input_data"
   ]
  },
  {
   "cell_type": "code",
   "execution_count": 6,
   "metadata": {
    "collapsed": true
   },
   "outputs": [],
   "source": [
    "def init_weights(shape):\n",
    "    return tf.Variable(tf.random_normal(shape,stddev=.02))"
   ]
  },
  {
   "cell_type": "code",
   "execution_count": 7,
   "metadata": {
    "collapsed": true
   },
   "outputs": [],
   "source": [
    "def model(x,w):\n",
    "    return tf.matmul(x,w)"
   ]
  },
  {
   "cell_type": "code",
   "execution_count": 8,
   "metadata": {},
   "outputs": [
    {
     "name": "stdout",
     "output_type": "stream",
     "text": [
      "Extracting MNIST_data/train-images-idx3-ubyte.gz\n",
      "Extracting MNIST_data/train-labels-idx1-ubyte.gz\n",
      "Extracting MNIST_data/t10k-images-idx3-ubyte.gz\n",
      "Extracting MNIST_data/t10k-labels-idx1-ubyte.gz\n"
     ]
    }
   ],
   "source": [
    "mnist = input_data.read_data_sets(\"MNIST_data/\",one_hot=True)\n",
    "trX,trY,tsX,tsY = mnist.train.images, mnist.train.labels, mnist.test.images, mnist.test.labels"
   ]
  },
  {
   "cell_type": "code",
   "execution_count": 26,
   "metadata": {},
   "outputs": [],
   "source": [
    "X = tf.placeholder(\"float\",[None,784],name=\"x\")\n",
    "Y = tf.placeholder(\"float\",[None,10],name=\"y\")\n",
    "\n",
    "W = init_weights([784,10])\n",
    "b = tf.Variable(0.0,dtype=tf.float32)\n",
    "pr_y = model(X,W)+b\n",
    "\n",
    "cost = tf.reduce_mean(tf.nn.softmax_cross_entropy_with_logits(logits=pr_y,labels=Y))\n",
    "tr_opt = tf.train.GradientDescentOptimizer(.05).minimize(cost)\n",
    "\n",
    "pr_op = tf.argmax(pr_y,1)"
   ]
  },
  {
   "cell_type": "code",
   "execution_count": 27,
   "metadata": {},
   "outputs": [
    {
     "name": "stdout",
     "output_type": "stream",
     "text": [
      "0 0.874236363636\n",
      "1 0.888436363636\n",
      "2 0.895454545455\n",
      "3 0.899709090909\n",
      "4 0.902763636364\n",
      "5 0.904818181818\n",
      "6 0.906763636364\n",
      "7 0.908472727273\n",
      "8 0.909818181818\n",
      "9 0.910727272727\n",
      "10 0.911727272727\n",
      "11 0.912872727273\n",
      "12 0.913381818182\n",
      "13 0.914072727273\n",
      "14 0.914763636364\n",
      "15 0.915218181818\n",
      "16 0.915890909091\n",
      "17 0.916345454545\n",
      "18 0.916963636364\n",
      "19 0.917509090909\n",
      "20 0.917890909091\n",
      "21 0.918236363636\n",
      "22 0.918690909091\n",
      "23 0.919145454545\n",
      "24 0.919509090909\n",
      "25 0.919854545455\n",
      "26 0.920145454545\n",
      "27 0.920418181818\n",
      "28 0.920690909091\n",
      "29 0.920945454545\n",
      "30 0.921109090909\n",
      "31 0.921436363636\n",
      "32 0.921472727273\n",
      "33 0.921690909091\n",
      "34 0.921818181818\n",
      "35 0.921945454545\n",
      "36 0.922163636364\n",
      "37 0.922290909091\n",
      "38 0.922545454545\n",
      "39 0.922690909091\n",
      "40 0.9228\n",
      "41 0.922909090909\n",
      "42 0.923018181818\n",
      "43 0.923145454545\n",
      "44 0.923290909091\n",
      "45 0.9234\n",
      "46 0.923545454545\n",
      "47 0.923836363636\n",
      "48 0.923927272727\n",
      "49 0.924036363636\n",
      "50 0.924272727273\n",
      "51 0.924418181818\n",
      "52 0.924654545455\n",
      "53 0.924854545455\n",
      "54 0.925036363636\n",
      "55 0.925054545455\n",
      "56 0.925218181818\n",
      "57 0.925436363636\n",
      "58 0.925509090909\n",
      "59 0.925509090909\n",
      "60 0.925654545455\n",
      "61 0.925690909091\n",
      "62 0.925727272727\n",
      "63 0.925781818182\n",
      "64 0.925945454545\n",
      "65 0.926018181818\n",
      "66 0.926072727273\n",
      "67 0.926163636364\n",
      "68 0.926272727273\n",
      "69 0.926272727273\n",
      "70 0.926254545455\n",
      "71 0.926381818182\n",
      "72 0.9264\n",
      "73 0.926472727273\n",
      "74 0.926509090909\n",
      "75 0.926527272727\n",
      "76 0.926727272727\n",
      "77 0.926745454545\n",
      "78 0.926818181818\n",
      "79 0.927\n",
      "80 0.927054545455\n",
      "81 0.927181818182\n",
      "82 0.927254545455\n",
      "83 0.927345454545\n",
      "84 0.927418181818\n",
      "85 0.927490909091\n",
      "86 0.927472727273\n",
      "87 0.927581818182\n",
      "88 0.9276\n",
      "89 0.927654545455\n",
      "90 0.927763636364\n",
      "91 0.9278\n",
      "92 0.927854545455\n",
      "93 0.927945454545\n",
      "94 0.927963636364\n",
      "95 0.928\n",
      "96 0.928054545455\n",
      "97 0.928054545455\n",
      "98 0.928163636364\n",
      "99 0.928218181818\n"
     ]
    }
   ],
   "source": [
    "with tf.Session() as sess:\n",
    "    tf.global_variables_initializer().run()\n",
    "    for i in range(100):\n",
    "        for start,end in zip(range(0,len(trX),128),range(128,len(trX)+1,128)):\n",
    "            sess.run(tr_opt,feed_dict={X:trX[start:end],Y:trY[start:end]})\n",
    "        print(i, np.mean(np.argmax(trY, axis=1) ==\n",
    "                         sess.run(pr_op, feed_dict={X: trX})))"
   ]
  },
  {
   "cell_type": "code",
   "execution_count": null,
   "metadata": {},
   "outputs": [],
   "source": [
    "\n"
   ]
  }
 ],
 "metadata": {
  "kernelspec": {
   "display_name": "Python 3",
   "language": "python",
   "name": "python3"
  },
  "language_info": {
   "codemirror_mode": {
    "name": "ipython",
    "version": 3
   },
   "file_extension": ".py",
   "mimetype": "text/x-python",
   "name": "python",
   "nbconvert_exporter": "python",
   "pygments_lexer": "ipython3",
   "version": "3.6.3"
  }
 },
 "nbformat": 4,
 "nbformat_minor": 2
}
